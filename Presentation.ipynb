{
 "cells": [
  {
   "cell_type": "markdown",
   "metadata": {
    "nbpresent": {
     "id": "ee8853e3-cf8c-4603-bbbf-4fb3d8a059d4"
    },
    "slideshow": {
     "slide_type": "slide"
    }
   },
   "source": [
    "## Chalice, Zappa, and Serverless, Oh My!\n",
    "\n",
    "* James Alexander\n",
    "* Leaf Software Solutions\n",
    "\n",
    "Slides Available at: https://github.com/yanigisawa/chalice-zappa-serverless\n",
    "\n",
    "Rendered Slides: https://yanigisawa.github.io/chalice-zappa-serverless/#/"
   ]
  },
  {
   "cell_type": "markdown",
   "metadata": {
    "slideshow": {
     "slide_type": "notes"
    }
   },
   "source": [
    "`jupyter nbconvert Presentation.ipynb --to slides --post serve`"
   ]
  },
  {
   "cell_type": "markdown",
   "metadata": {
    "nbpresent": {
     "id": "235a5eb8-3f26-4f56-b403-c9a75212a918"
    },
    "slideshow": {
     "slide_type": "slide"
    }
   },
   "source": [
    "\n",
    "# What is Serverless?\n",
    "\n",
    "* Hosting on someone else’s computer\n",
    "* Deploying applications without worrying about the infrastructure\n",
    "* “Cloud Scale” scale out possibilities\n",
    "* Pay per use of compute resources, rather than having overprovisioned resources\n",
    "\n",
    "\n"
   ]
  },
  {
   "cell_type": "markdown",
   "metadata": {
    "nbpresent": {
     "id": "03dbdc8c-8551-40e8-85b3-4fdbf24ae818"
    },
    "slideshow": {
     "slide_type": "slide"
    }
   },
   "source": [
    "# Tools\n",
    "\n",
    "* Awsume - https://awsu.me\n",
    "* From Trek10\n",
    "\n",
    "Allows for fast switching from one AWS account to another from the CLI\n",
    "\n",
    "```\n",
    "$ awsume client-account\n",
    "```"
   ]
  },
  {
   "cell_type": "markdown",
   "metadata": {
    "nbpresent": {
     "id": "0db9bc4f-63f5-48aa-b654-8b411ab35046"
    },
    "slideshow": {
     "slide_type": "subslide"
    }
   },
   "source": [
    "# Cloud Tools\n",
    "\n",
    "\n",
    "* Chamber - https://github.com/segmentio/chamber\n",
    "\n",
    "Allows for managing and storing environment variables from the AWS Parameter store\n",
    "\n",
    "```\n",
    "$ chamber exec dev -- serverless deploy\n",
    "\n",
    "alias cdev='chamber exec dev'\n",
    "alias cdemo='chamber exec demo'\n",
    "alias cprod='chamber exec prd'\n",
    "\n",
    "alias sdf='chamber exec dev -- sls deploy function -f'\n",
    "alias sl='chamber exec dev -- sls logs --startTime 5m -tf'\n",
    "```\n"
   ]
  },
  {
   "cell_type": "markdown",
   "metadata": {
    "nbpresent": {
     "id": "c7a3bb8e-8975-4b61-9cfd-2dbe8c2426da"
    },
    "slideshow": {
     "slide_type": "subslide"
    }
   },
   "source": [
    "# CLI Tools\n",
    "\n",
    "* Aws cli\n",
    "\n",
    "Allows for interacting with all AWS resources and services from a CLI.\n",
    "\n",
    "```\n",
    "$ awsume client-account\n",
    "$ aws s3 ls\n",
    "```"
   ]
  },
  {
   "cell_type": "markdown",
   "metadata": {
    "nbpresent": {
     "id": "a73b65c3-c226-40a8-973d-fb18d5ab2d65"
    },
    "slideshow": {
     "slide_type": "subslide"
    }
   },
   "source": [
    "# Python Tools\n",
    "\n",
    "* Virtualenv\n",
    "* Pipenv\n",
    "\n"
   ]
  },
  {
   "cell_type": "markdown",
   "metadata": {
    "nbpresent": {
     "id": "5964e1f8-7685-4a76-8794-3095f0a62387"
    },
    "slideshow": {
     "slide_type": "slide"
    }
   },
   "source": [
    "# Chalice\n",
    "\n",
    "* AWS specific\n",
    "* AWS team built app for deploying serverless applications\n",
    "* Local development with chalice specific server\n",
    "* https://chalice.readthedocs.io/en/latest/\n",
    "\n",
    "<img src=\"img/chalice.png\" height=\"200px\" width=\"200px\" />\n",
    "\n",
    "\n"
   ]
  },
  {
   "cell_type": "markdown",
   "metadata": {
    "slideshow": {
     "slide_type": "subslide"
    }
   },
   "source": [
    "# Chalice \n",
    "\n",
    "```\n",
    "$ pip install chalice\n",
    "$ chalice new-project helloworld\n",
    "$ cd helloworld\n",
    "\n",
    "```\n"
   ]
  },
  {
   "cell_type": "markdown",
   "metadata": {
    "slideshow": {
     "slide_type": "subslide"
    }
   },
   "source": [
    "# Chalice \n",
    "\n",
    "```\n",
    "# app.py\n",
    "from chalice import Chalice\n",
    "\n",
    "app = Chalice(app_name=\"helloworld\")\n",
    "\n",
    "@app.route(\"/\")\n",
    "def index():\n",
    "    return {\"hello\": \"world\"}\n",
    "```"
   ]
  },
  {
   "cell_type": "markdown",
   "metadata": {
    "slideshow": {
     "slide_type": "subslide"
    }
   },
   "source": [
    "# Chalice\n",
    "```\n",
    "$ chalice deploy\n",
    "Creating deployment package.\n",
    "...\n",
    "https://a3vtlvi9ll.execute-api.us-east-1.amazonaws.com/api/\n",
    "$ curl https://a3vtlvi9ll.execute-api.us-east-1.amazonaws.com/api/\n",
    "{\"hello\": \"world\"}\n",
    "```"
   ]
  },
  {
   "cell_type": "markdown",
   "metadata": {
    "slideshow": {
     "slide_type": "subslide"
    }
   },
   "source": [
    "# Chalice\n",
    "\n",
    "```\n",
    "$ chalice local\n",
    "Serving on localhost:8000\n",
    "```"
   ]
  },
  {
   "cell_type": "markdown",
   "metadata": {
    "slideshow": {
     "slide_type": "subslide"
    }
   },
   "source": [
    "# Chalice\n",
    "\n",
    "* requirements.txt file for pip-installable files\n",
    "* vendor/ folder for everything else to deploy to the AWS Lambda environment "
   ]
  },
  {
   "cell_type": "markdown",
   "metadata": {
    "slideshow": {
     "slide_type": "subslide"
    }
   },
   "source": [
    "# Chalice\n",
    "\n",
    "```\n",
    "$ chalice delete --stage dev\n",
    "Deleting Rest API: duvw4kwyl3\n",
    "Deleting function aws:arn:lambda:region:123456789:helloworld-dev\n",
    "Deleting IAM Role helloworld-dev\n",
    "```"
   ]
  },
  {
   "cell_type": "markdown",
   "metadata": {
    "slideshow": {
     "slide_type": "subslide"
    }
   },
   "source": [
    "# Chalice\n",
    "\n",
    "### Pros \n",
    "\n",
    "* Minimal getting started cost\n",
    "* Little boiler plate to get started\n",
    "\n",
    "### Cons\n",
    "\n",
    "* AWS Specific hosting / deployment"
   ]
  },
  {
   "cell_type": "markdown",
   "metadata": {
    "nbpresent": {
     "id": "d0cd1b8e-b1b6-49a8-ae14-c1634213e149"
    },
    "slideshow": {
     "slide_type": "slide"
    }
   },
   "source": [
    "# Zappa \n",
    "\n",
    "* Abstracts Python Web host at the WSGI (Web Server Gateway Interface) layer\n",
    "* Python code is otherwise a WSGI app\n",
    "* https://github.com/Miserlou/Zappa\n",
    "\n",
    "<img src=\"https://camo.githubusercontent.com/7bdd37b656c15786839d868e1075cdf1926d4272/687474703a2f2f692e696d6775722e636f6d2f6f65506e484a6e2e6a7067\" />"
   ]
  },
  {
   "cell_type": "markdown",
   "metadata": {
    "slideshow": {
     "slide_type": "subslide"
    }
   },
   "source": [
    "<img src=\"https://camo.githubusercontent.com/be05103c626a5afe18dc4b1208a4b465dbd9e731/687474703a2f2f692e696d6775722e636f6d2f6631504a7843512e676966\"/>"
   ]
  },
  {
   "cell_type": "markdown",
   "metadata": {
    "slideshow": {
     "slide_type": "subslide"
    }
   },
   "source": [
    "# Zappa - Scheduling\n",
    "\n",
    "```\n",
    "{\n",
    "  \"production\": {\n",
    "  ...\n",
    "    \"events\": [{\n",
    "      \"function\": \"your_module.your_function\", \n",
    "      \"expression\": \"rate(1 minute)\" \n",
    "        // When to execute it (in cron or rate format)\n",
    "     }],\n",
    "   ...\n",
    "  }\n",
    "}\n",
    "```"
   ]
  },
  {
   "cell_type": "markdown",
   "metadata": {
    "slideshow": {
     "slide_type": "subslide"
    }
   },
   "source": [
    "# Zappa - Scheduling\n",
    "\n",
    "`$ zappa schedule production`\n",
    "\n"
   ]
  },
  {
   "cell_type": "markdown",
   "metadata": {
    "slideshow": {
     "slide_type": "subslide"
    }
   },
   "source": [
    "# Zappa\n",
    "\n",
    "### Pros: \n",
    "* Not tied to a Cloud host provider\n",
    "* Can host any WSGI-based application\n",
    "\n",
    "### Cons: \n",
    "* App deployment size could be an issue easily exceed even the `slimHandler` setting's ability to host the entire application\n",
    "* Not backed by full-time corporation, but has a Patreon Page: https://www.patreon.com/zappa/overview"
   ]
  },
  {
   "cell_type": "markdown",
   "metadata": {
    "nbpresent": {
     "id": "a22fd7d4-3520-4fb1-ac43-c776a69beb53"
    },
    "slideshow": {
     "slide_type": "slide"
    }
   },
   "source": [
    "# Serverless Framework\n",
    "\n",
    "* Uses YAML configuration to define Lamba functions and interactions (e.g. scheduled jobs, SQS, or S3 events)\n",
    "* Has connectors for other languages, e.g. NodeJS, Go, Java, PHP, Swift\n",
    "* https://serverless.com/framework/docs/dashboard/secrets/\n",
    "\n",
    "<img class=\"Image-fjntos-0 iFqftO\" src=\"data:image/svg+xml;base64,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\" width=\"230,230,1\">\n"
   ]
  },
  {
   "cell_type": "markdown",
   "metadata": {
    "slideshow": {
     "slide_type": "subslide"
    }
   },
   "source": [
    "# Serverless\n",
    "\n",
    "```\n",
    "# Step 1. Install serverless globally\n",
    "$ npm install serverless -g\n",
    "\n",
    "# Step 2. Create a service\n",
    "$ serverless\n",
    "\n",
    "# Step 3. deploy to cloud provider\n",
    "$ serverless deploy\n",
    "\n",
    "# Your function is deployed!\n",
    "$ http://xyz.amazonaws.com/hello-world\n",
    "```"
   ]
  },
  {
   "cell_type": "markdown",
   "metadata": {
    "slideshow": {
     "slide_type": "subslide"
    }
   },
   "source": [
    "# Serverless\n",
    "\n",
    "REST APIs can be broken up among several serverless projects \n",
    "\n",
    "```\n",
    "users/\n",
    "  serverless.yml\n",
    "posts/\n",
    "  serverless.yml \n",
    "comments/\n",
    "  serverless.yml \n",
    "```"
   ]
  },
  {
   "cell_type": "markdown",
   "metadata": {
    "slideshow": {
     "slide_type": "notes"
    }
   },
   "source": [
    "* Creates headaches with having \"serverless.yml\" files across several folders. VSCode, Atom, etc. keyboard shortcuts can't find unique file names\n",
    "* Shared common libraries are kludgy to reference in"
   ]
  },
  {
   "cell_type": "markdown",
   "metadata": {
    "slideshow": {
     "slide_type": "subslide"
    }
   },
   "source": [
    "# Serverless\n",
    "```\n",
    "# serverless.yml\n",
    "service: myservice\n",
    "\n",
    "provider:\n",
    "  name: aws\n",
    "  runtime: python3.7\n",
    "\n",
    "functions:\n",
    "  hello:\n",
    "    handler: handler.hello\n",
    "    events:\n",
    "       - http:\n",
    "         path: hello/{name}\n",
    "         method: get\n",
    "```"
   ]
  },
  {
   "cell_type": "markdown",
   "metadata": {
    "slideshow": {
     "slide_type": "notes"
    }
   },
   "source": [
    "* Path parameters show up in the \"event\" python argument: e.g.\n",
    "\n",
    "`event[\"pathParameters\"]`"
   ]
  },
  {
   "cell_type": "markdown",
   "metadata": {
    "slideshow": {
     "slide_type": "slide"
    }
   },
   "source": [
    "# Serverless"
   ]
  },
  {
   "cell_type": "code",
   "execution_count": null,
   "metadata": {
    "slideshow": {
     "slide_type": "fragment"
    }
   },
   "outputs": [],
   "source": [
    "# handler.py\n",
    "def hello(event, context):\n",
    "    data = json.loads(event['body'])\n",
    "    # event[\"pathParameters\"][\"name\"]\n",
    "    # ...\n"
   ]
  },
  {
   "cell_type": "markdown",
   "metadata": {
    "slideshow": {
     "slide_type": "subslide"
    }
   },
   "source": [
    "# Serverless Framework\n",
    "\n",
    "### Pros\n",
    "\n",
    "* Cross cloud functionality - Same underlying code can be deployed to more than one cloud provider\n",
    "* Supports multiple languages\n",
    "* Individual \"Functions\" can be deployed\n",
    "* Additional features and plugin ecosystem\n",
    "\n",
    "### Cons \n",
    "\n",
    "* 250 Object limit for CloudFormation deployment limit\n",
    "* Local development is not currently possible, though could be coming with this plugin: https://serverless.com/plugins/serverless-offline/\n",
    "* Organization of Multiple Serverless projects could be confusing for Python projects"
   ]
  },
  {
   "cell_type": "markdown",
   "metadata": {
    "slideshow": {
     "slide_type": "slide"
    }
   },
   "source": [
    "\n",
    "<img src=\"img/ServerlessUIApp.png\" />"
   ]
  },
  {
   "cell_type": "markdown",
   "metadata": {
    "slideshow": {
     "slide_type": "notes"
    }
   },
   "source": [
    "* During our build process we invalidate the CloudFront CDN storage to refresh the cache from S3\n",
    "* Database migrations are done via alembic, and are manually run during the deployments"
   ]
  },
  {
   "cell_type": "markdown",
   "metadata": {
    "slideshow": {
     "slide_type": "slide"
    }
   },
   "source": [
    "<img src=\"img/AsyncTasks.png\" />"
   ]
  },
  {
   "cell_type": "markdown",
   "metadata": {
    "slideshow": {
     "slide_type": "slide"
    }
   },
   "source": [
    "<img src=\"img/ReportWorkflow.png\" />"
   ]
  },
  {
   "cell_type": "markdown",
   "metadata": {
    "slideshow": {
     "slide_type": "slide"
    }
   },
   "source": [
    "# Gotchas\n",
    "\n",
    "* MySQL is still the Bottleneck\n",
    "* Scale out of Server Compute increases MySQL Connections\n",
    "* Base Path Mapping of API Gateway for new sls \"projects\" / functions\n",
    "* Having 30+ Serverless projects, all with their own `serverless.yml` file makes it difficult to Cmd+P to find the \"right\" serverless.yml file"
   ]
  },
  {
   "cell_type": "markdown",
   "metadata": {
    "slideshow": {
     "slide_type": "slide"
    }
   },
   "source": [
    "# FIN\n",
    "\n",
    "\n",
    "* Questions?\n",
    "\n",
    "Slides Available at: https://github.com/yanigisawa/chalice-zappa-serverless\n",
    "\n",
    "Rendered Slides: https://yanigisawa.github.io/chalice-zappa-serverless/#/"
   ]
  }
 ],
 "metadata": {
  "celltoolbar": "Slideshow",
  "kernelspec": {
   "display_name": "Python 3",
   "language": "python",
   "name": "python3"
  },
  "language_info": {
   "codemirror_mode": {
    "name": "ipython",
    "version": 3
   },
   "file_extension": ".py",
   "mimetype": "text/x-python",
   "name": "python",
   "nbconvert_exporter": "python",
   "pygments_lexer": "ipython3",
   "version": "3.7.3"
  },
  "nbpresent": {
   "slides": {
    "52117f56-afb3-4faf-afba-32881c3c1334": {
     "id": "52117f56-afb3-4faf-afba-32881c3c1334",
     "prev": "5e11a833-d86f-4df3-9702-6ea8b1ba6fb8",
     "regions": {
      "de009abf-470f-4259-8698-18aff1d7706a": {
       "attrs": {
        "height": 0.8,
        "width": 0.45,
        "x": 0.05,
        "y": 0.1
       },
       "id": "de009abf-470f-4259-8698-18aff1d7706a"
      },
      "f663c65a-c06f-402a-9472-ec753c50cc41": {
       "attrs": {
        "height": 0.8,
        "width": 0.45,
        "x": 0.5,
        "y": 0.1
       },
       "id": "f663c65a-c06f-402a-9472-ec753c50cc41"
      }
     }
    },
    "5e11a833-d86f-4df3-9702-6ea8b1ba6fb8": {
     "id": "5e11a833-d86f-4df3-9702-6ea8b1ba6fb8",
     "layout": "manual",
     "prev": null,
     "regions": {
      "04df1af6-d8da-4131-901c-d248b63a0794": {
       "attrs": {
        "height": 1,
        "width": 1,
        "x": -0.0018287129422186654,
        "y": -0.004682428304506112
       },
       "id": "04df1af6-d8da-4131-901c-d248b63a0794"
      }
     }
    }
   },
   "themes": {}
  }
 },
 "nbformat": 4,
 "nbformat_minor": 2
}
