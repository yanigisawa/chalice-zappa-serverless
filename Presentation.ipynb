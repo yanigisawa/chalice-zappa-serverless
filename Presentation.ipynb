{
 "cells": [
  {
   "cell_type": "markdown",
   "metadata": {
    "nbpresent": {
     "id": "ee8853e3-cf8c-4603-bbbf-4fb3d8a059d4"
    },
    "slideshow": {
     "slide_type": "slide"
    }
   },
   "source": [
    "# Chalice, Zappa, and Serverless, Oh My!\n"
   ]
  },
  {
   "cell_type": "markdown",
   "metadata": {
    "slideshow": {
     "slide_type": "notes"
    }
   },
   "source": [
    "`jupyter nbconvert Presentation.ipynb --to slides --post serve`"
   ]
  },
  {
   "cell_type": "markdown",
   "metadata": {
    "nbpresent": {
     "id": "235a5eb8-3f26-4f56-b403-c9a75212a918"
    },
    "slideshow": {
     "slide_type": "slide"
    }
   },
   "source": [
    "\n",
    "# What is Serverless?\n",
    "\n",
    "* Hosting on someone else’s computer\n",
    "* Deploying applications without worrying about the infrastructure\n",
    "* “Cloud Scale” scale out possibilities\n",
    "* Pay per use of compute resources, rather than having overprovisioned resources\n"
   ]
  },
  {
   "cell_type": "markdown",
   "metadata": {
    "nbpresent": {
     "id": "03dbdc8c-8551-40e8-85b3-4fdbf24ae818"
    },
    "slideshow": {
     "slide_type": "slide"
    }
   },
   "source": [
    "# Tools\n",
    "\n",
    "* Awsume - https://awsu.me\n",
    "* From Trek10\n",
    "\n",
    "Allows for fast switching of AWS roles from the CLI\n",
    "\n",
    "```\n",
    "$ awsume client-account\n",
    "```"
   ]
  },
  {
   "cell_type": "markdown",
   "metadata": {
    "nbpresent": {
     "id": "0db9bc4f-63f5-48aa-b654-8b411ab35046"
    },
    "slideshow": {
     "slide_type": "subslide"
    }
   },
   "source": [
    "# Cloud Tools\n",
    "\n",
    "\n",
    "* Chamber - https://github.com/segmentio/chamber\n",
    "\n",
    "Allows for managing and storing secrets from the AWS Parameter store\n",
    "\n",
    "```\n",
    "$ chamber exec dev -- serverless deploy\n",
    "```\n"
   ]
  },
  {
   "cell_type": "markdown",
   "metadata": {
    "nbpresent": {
     "id": "c7a3bb8e-8975-4b61-9cfd-2dbe8c2426da"
    },
    "slideshow": {
     "slide_type": "subslide"
    }
   },
   "source": [
    "# CLI Tools\n",
    "\n",
    "* Aws cli\n",
    "\n",
    "Allows for interacting with all AWS resources and services from a CLI.\n",
    "\n",
    "```\n",
    "$ awsume client-account\n",
    "$ aws s3 ls\n",
    "```"
   ]
  },
  {
   "cell_type": "markdown",
   "metadata": {
    "nbpresent": {
     "id": "a73b65c3-c226-40a8-973d-fb18d5ab2d65"
    },
    "slideshow": {
     "slide_type": "subslide"
    }
   },
   "source": [
    "# Python Tools\n",
    "\n",
    "* Virtualenv\n",
    "* Pipenv\n",
    "\n"
   ]
  },
  {
   "cell_type": "markdown",
   "metadata": {
    "nbpresent": {
     "id": "5964e1f8-7685-4a76-8794-3095f0a62387"
    },
    "slideshow": {
     "slide_type": "slide"
    }
   },
   "source": [
    "# Chalice\n",
    "\n",
    "* AWS specific\n",
    "* AWS team built app for deploying serverless applications\n",
    "* Local development with chalice specific server\n",
    "* https://chalice.readthedocs.io/en/latest/"
   ]
  },
  {
   "cell_type": "markdown",
   "metadata": {
    "slideshow": {
     "slide_type": "subslide"
    }
   },
   "source": [
    "# Chalice \n",
    "\n",
    "```\n",
    "$ pip install chalice\n",
    "$ chalice new-project helloworld\n",
    "$ cd helloworld\n",
    "\n",
    "```\n"
   ]
  },
  {
   "cell_type": "markdown",
   "metadata": {
    "slideshow": {
     "slide_type": "subslide"
    }
   },
   "source": [
    "# Chalice \n",
    "\n",
    "```\n",
    "# app.py\n",
    "from chalice import Chalice\n",
    "\n",
    "app = Chalice(app_name=\"helloworld\")\n",
    "\n",
    "@app.route(\"/\")\n",
    "def index():\n",
    "    return {\"hello\": \"world\"}\n",
    "```"
   ]
  },
  {
   "cell_type": "markdown",
   "metadata": {
    "slideshow": {
     "slide_type": "subslide"
    }
   },
   "source": [
    "# Chalice\n",
    "```\n",
    "$ chalice deploy\n",
    "Creating deployment package.\n",
    "...\n",
    "https://a3vtlvi9ll.execute-api.us-east-1.amazonaws.com/api/\n",
    "$ curl https://a3vtlvi9ll.execute-api.us-east-1.amazonaws.com/api/\n",
    "{\"hello\": \"world\"}\n",
    "```"
   ]
  },
  {
   "cell_type": "markdown",
   "metadata": {
    "slideshow": {
     "slide_type": "subslide"
    }
   },
   "source": [
    "# Chalice\n",
    "\n",
    "```\n",
    "$ chalice local\n",
    "Serving on localhost:8000\n",
    "```"
   ]
  },
  {
   "cell_type": "markdown",
   "metadata": {
    "slideshow": {
     "slide_type": "subslide"
    }
   },
   "source": [
    "# Chalice\n",
    "\n",
    "* requirements.txt file for pip-installable files\n",
    "* vendor/ folder for everything else to deploy to the AWS Lambda environment "
   ]
  },
  {
   "cell_type": "markdown",
   "metadata": {
    "slideshow": {
     "slide_type": "subslide"
    }
   },
   "source": [
    "# Chalice\n",
    "\n",
    "```\n",
    "$ chalice delete --stage dev\n",
    "Deleting Rest API: duvw4kwyl3\n",
    "Deleting function aws:arn:lambda:region:123456789:helloworld-dev\n",
    "Deleting IAM Role helloworld-dev\n",
    "```"
   ]
  },
  {
   "cell_type": "markdown",
   "metadata": {
    "slideshow": {
     "slide_type": "subslide"
    }
   },
   "source": [
    "# Chalice\n",
    "\n",
    "### Pros \n",
    "\n",
    "* Minimal getting started cost\n",
    "* Little boiler plate to get started\n",
    "\n",
    "### Cons\n",
    "\n",
    "* AWS Specific hosting / deployment"
   ]
  },
  {
   "cell_type": "markdown",
   "metadata": {
    "nbpresent": {
     "id": "d0cd1b8e-b1b6-49a8-ae14-c1634213e149"
    },
    "slideshow": {
     "slide_type": "slide"
    }
   },
   "source": [
    "# Zappa \n",
    "\n",
    "* Abstracts Python Web host at the WSGI (Web Server Gateway Interface) layer\n",
    "* Python code is otherwise a WSGI app\n",
    "* https://github.com/Miserlou/Zappa"
   ]
  },
  {
   "cell_type": "markdown",
   "metadata": {
    "slideshow": {
     "slide_type": "subslide"
    }
   },
   "source": [
    "<img src=\"https://camo.githubusercontent.com/be05103c626a5afe18dc4b1208a4b465dbd9e731/687474703a2f2f692e696d6775722e636f6d2f6631504a7843512e676966\"/>"
   ]
  },
  {
   "cell_type": "markdown",
   "metadata": {
    "slideshow": {
     "slide_type": "subslide"
    }
   },
   "source": [
    "# Zappa - Scheduling\n",
    "\n",
    "```\n",
    "{\n",
    "  \"production\": {\n",
    "  ...\n",
    "    \"events\": [{\n",
    "      \"function\": \"your_module.your_function\", \n",
    "      \"expression\": \"rate(1 minute)\" \n",
    "        // When to execute it (in cron or rate format)\n",
    "     }],\n",
    "   ...\n",
    "  }\n",
    "}\n",
    "```"
   ]
  },
  {
   "cell_type": "markdown",
   "metadata": {
    "slideshow": {
     "slide_type": "subslide"
    }
   },
   "source": [
    "# Zappa - Scheduling\n",
    "\n",
    "`$ zappa schedule production`\n",
    "\n"
   ]
  },
  {
   "cell_type": "markdown",
   "metadata": {
    "slideshow": {
     "slide_type": "subslide"
    }
   },
   "source": [
    "# Zappa\n",
    "\n",
    "### Pros: \n",
    "* Not tied to a Cloud host provider\n",
    "* Can host any WSGI-based application\n",
    "\n",
    "### Cons: \n",
    "* App deployment size could be an issue easily exceed even the `slimHandler` setting's ability to host the entire application\n",
    "* Not backed by full-time corporation, but has a Patreon Page: https://www.patreon.com/zappa/overview"
   ]
  },
  {
   "cell_type": "markdown",
   "metadata": {
    "nbpresent": {
     "id": "a22fd7d4-3520-4fb1-ac43-c776a69beb53"
    },
    "slideshow": {
     "slide_type": "slide"
    }
   },
   "source": [
    "# Serverless Framework\n",
    "\n",
    "* Uses YAML configuration to define Lamba functions and interactions (e.g. scheduled jobs, SQS, or S3 events)\n",
    "* Has connectors for other languages, e.g. NodeJS, Go, Java, PHP, Swift\n",
    "* https://serverless.com/framework/docs/dashboard/secrets/\n"
   ]
  },
  {
   "cell_type": "markdown",
   "metadata": {
    "slideshow": {
     "slide_type": "subslide"
    }
   },
   "source": [
    "# Serverless\n",
    "\n",
    "```\n",
    "# Step 1. Install serverless globally\n",
    "$ npm install serverless -g\n",
    "\n",
    "# Step 2. Create a service\n",
    "$ serverless\n",
    "\n",
    "# Step 3. deploy to cloud provider\n",
    "$ serverless deploy\n",
    "\n",
    "# Your function is deployed!\n",
    "$ http://xyz.amazonaws.com/hello-world\n",
    "```"
   ]
  },
  {
   "cell_type": "markdown",
   "metadata": {
    "slideshow": {
     "slide_type": "subslide"
    }
   },
   "source": [
    "# Serverless\n",
    "```\n",
    "users/\n",
    "  serverless.yml\n",
    "posts/\n",
    "  serverless.yml \n",
    "comments/\n",
    "  serverless.yml \n",
    "```"
   ]
  },
  {
   "cell_type": "markdown",
   "metadata": {
    "slideshow": {
     "slide_type": "subslide"
    }
   },
   "source": [
    "# Serverless\n",
    "```\n",
    "# serverless.yml\n",
    "service: myservice\n",
    "\n",
    "provider:\n",
    "  name: aws\n",
    "  runtime: python3.7\n",
    "\n",
    "functions:\n",
    "  hello:\n",
    "    handler: handler.hello\n",
    "```"
   ]
  },
  {
   "cell_type": "markdown",
   "metadata": {
    "slideshow": {
     "slide_type": "slide"
    }
   },
   "source": [
    "# Serverless"
   ]
  },
  {
   "cell_type": "code",
   "execution_count": null,
   "metadata": {
    "slideshow": {
     "slide_type": "fragment"
    }
   },
   "outputs": [],
   "source": [
    "# handler.py\n",
    "def hello(event, context):\n",
    "    data = json.loads(event['body'])\n",
    "    # ...\n"
   ]
  },
  {
   "cell_type": "markdown",
   "metadata": {
    "slideshow": {
     "slide_type": "subslide"
    }
   },
   "source": [
    "# Serverless Framework\n",
    "\n",
    "### Pros\n",
    "\n",
    "* Cross cloud functionality - Same underlying code can be deployed to more than one cloud provider\n",
    "* Supports multiple languages\n",
    "* Individual \"Functions\" can be deployed\n",
    "* Additional features and plugin ecosystem\n",
    "\n",
    "### Cons \n",
    "\n",
    "* 250 Object limit for CloudFormation deployment limit\n",
    "* Local development is not currently possible, though could be coming with this plugin: https://serverless.com/plugins/serverless-offline/\n",
    "* Organization of Multiple Serverless projects could be confusing for Python projects"
   ]
  },
  {
   "cell_type": "markdown",
   "metadata": {
    "slideshow": {
     "slide_type": "slide"
    }
   },
   "source": [
    "# FIN"
   ]
  }
 ],
 "metadata": {
  "celltoolbar": "Slideshow",
  "kernelspec": {
   "display_name": "Python 3",
   "language": "python",
   "name": "python3"
  },
  "language_info": {
   "codemirror_mode": {
    "name": "ipython",
    "version": 3
   },
   "file_extension": ".py",
   "mimetype": "text/x-python",
   "name": "python",
   "nbconvert_exporter": "python",
   "pygments_lexer": "ipython3",
   "version": "3.7.3"
  },
  "nbpresent": {
   "slides": {
    "52117f56-afb3-4faf-afba-32881c3c1334": {
     "id": "52117f56-afb3-4faf-afba-32881c3c1334",
     "prev": "5e11a833-d86f-4df3-9702-6ea8b1ba6fb8",
     "regions": {
      "de009abf-470f-4259-8698-18aff1d7706a": {
       "attrs": {
        "height": 0.8,
        "width": 0.45,
        "x": 0.05,
        "y": 0.1
       },
       "id": "de009abf-470f-4259-8698-18aff1d7706a"
      },
      "f663c65a-c06f-402a-9472-ec753c50cc41": {
       "attrs": {
        "height": 0.8,
        "width": 0.45,
        "x": 0.5,
        "y": 0.1
       },
       "id": "f663c65a-c06f-402a-9472-ec753c50cc41"
      }
     }
    },
    "5e11a833-d86f-4df3-9702-6ea8b1ba6fb8": {
     "id": "5e11a833-d86f-4df3-9702-6ea8b1ba6fb8",
     "layout": "manual",
     "prev": null,
     "regions": {
      "04df1af6-d8da-4131-901c-d248b63a0794": {
       "attrs": {
        "height": 1,
        "width": 1,
        "x": -0.0018287129422186654,
        "y": -0.004682428304506112
       },
       "id": "04df1af6-d8da-4131-901c-d248b63a0794"
      }
     }
    }
   },
   "themes": {}
  }
 },
 "nbformat": 4,
 "nbformat_minor": 2
}
